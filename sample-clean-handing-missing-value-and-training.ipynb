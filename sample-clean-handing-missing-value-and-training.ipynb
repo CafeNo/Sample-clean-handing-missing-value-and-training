{
 "cells": [
  {
   "cell_type": "code",
   "execution_count": 1,
   "id": "b19e48a4",
   "metadata": {
    "execution": {
     "iopub.execute_input": "2023-11-21T07:31:07.309572Z",
     "iopub.status.busy": "2023-11-21T07:31:07.308919Z",
     "iopub.status.idle": "2023-11-21T07:31:51.038300Z",
     "shell.execute_reply": "2023-11-21T07:31:51.036866Z"
    },
    "papermill": {
     "duration": 43.737189,
     "end_time": "2023-11-21T07:31:51.041032",
     "exception": false,
     "start_time": "2023-11-21T07:31:07.303843",
     "status": "completed"
    },
    "tags": []
   },
   "outputs": [
    {
     "name": "stdout",
     "output_type": "stream",
     "text": [
      "Columns in the training set: Index(['step', 'timestamp'], dtype='object')\n",
      "Training Predictions using RandomForestClassifier:\n",
      "[0 1 0 ... 1 0 0]\n",
      "Training Predictions using XGBClassifier:\n",
      "[0 1 0 ... 1 0 0]\n",
      "Training Predictions using GradientBoostingClassifier:\n",
      "[0 1 0 ... 1 1 1]\n",
      "Training Predictions using Ensemble:\n",
      "[0 1 0 ... 1 0 0]\n"
     ]
    }
   ],
   "source": [
    "import os\n",
    "import pandas as pd\n",
    "from sklearn.model_selection import train_test_split, cross_val_score, GridSearchCV\n",
    "from sklearn.ensemble import RandomForestClassifier, GradientBoostingClassifier, VotingClassifier\n",
    "from sklearn.metrics import accuracy_score, classification_report\n",
    "from sklearn.impute import SimpleImputer\n",
    "from sklearn.preprocessing import LabelEncoder\n",
    "from xgboost import XGBClassifier\n",
    "from sklearn.decomposition import PCA\n",
    "from imblearn.over_sampling import SMOTE\n",
    "from imblearn.under_sampling import RandomUnderSampler\n",
    "\n",
    "# Assuming 'event' is the target variable and 'step', 'timestamp' are features\n",
    "file_path = '/kaggle/input/simple-clean/train_events.csv'\n",
    "\n",
    "# Load the dataset\n",
    "df = pd.read_csv(file_path)\n",
    "\n",
    "# Extract features and target variable\n",
    "y = df['event']\n",
    "X = df.drop(['series_id', 'night', 'event'], axis=1)\n",
    "\n",
    "# Handling missing values\n",
    "imputer = SimpleImputer(strategy='constant', fill_value=0)\n",
    "X[['step']] = imputer.fit_transform(X[['step']])\n",
    "\n",
    "# Convert the 'timestamp' column to datetime format\n",
    "X['timestamp'] = pd.to_datetime(X['timestamp'], errors='coerce', utc=True)\n",
    "X['timestamp'].fillna(pd.to_datetime('1970-01-01T00:00:00+00:00', utc=True), inplace=True)\n",
    "X['timestamp'] = X['timestamp'].astype(int) / 10**9\n",
    "\n",
    "# Encode the target variable using the LabelEncoder\n",
    "le = LabelEncoder()\n",
    "y_encoded = le.fit_transform(y)\n",
    "\n",
    "# Handling Imbalance using SMOTE for oversampling and RandomUnderSampler for undersampling\n",
    "smote = SMOTE(random_state=42)\n",
    "rus = RandomUnderSampler(random_state=42)\n",
    "\n",
    "X_resampled, y_resampled = smote.fit_resample(X, y_encoded)\n",
    "X_resampled, y_resampled = rus.fit_resample(X_resampled, y_resampled)\n",
    "\n",
    "# Split the resampled data into training and testing sets\n",
    "X_train, X_test, y_train, y_test = train_test_split(X_resampled, y_resampled, test_size=0.2, random_state=42)\n",
    "\n",
    "# Initialize classifiers\n",
    "rf_classifier = RandomForestClassifier(random_state=42)\n",
    "xgb_classifier = XGBClassifier(random_state=42)\n",
    "gb_classifier = GradientBoostingClassifier(random_state=42)\n",
    "\n",
    "# Hyperparameter tuning using GridSearchCV for Random Forest classifier\n",
    "param_grid = {\n",
    "    'n_estimators': [100, 200, 300],\n",
    "    'max_depth': [5, 10, 15]\n",
    "}\n",
    "\n",
    "grid_search = GridSearchCV(rf_classifier, param_grid, cv=3, scoring='accuracy', n_jobs=-1)\n",
    "grid_search.fit(X_train, y_train)\n",
    "best_rf_classifier = grid_search.best_estimator_\n",
    "\n",
    "# Train classifiers\n",
    "classifiers = [best_rf_classifier, xgb_classifier, gb_classifier]\n",
    "\n",
    "# Print columns in the training set\n",
    "print(\"Columns in the training set:\", X.columns)\n",
    "\n",
    "# Load the training dataset for making predictions\n",
    "train_file_path = '/kaggle/input/simple-clean/train_events.csv'\n",
    "df_train_for_predictions = pd.read_csv(train_file_path)\n",
    "\n",
    "# Extract features from the training dataset\n",
    "X_train_for_predictions = df_train_for_predictions.drop(['series_id', 'night', 'event'], axis=1)\n",
    "\n",
    "# Handling missing values for the training set used for predictions\n",
    "X_train_for_predictions[['step']] = imputer.transform(X_train_for_predictions[['step']])\n",
    "\n",
    "# Convert the 'timestamp' column to datetime format\n",
    "X_train_for_predictions['timestamp'] = pd.to_datetime(X_train_for_predictions['timestamp'], errors='coerce', utc=True)\n",
    "X_train_for_predictions['timestamp'].fillna(pd.to_datetime('1970-01-01T00:00:00+00:00', utc=True), inplace=True)\n",
    "X_train_for_predictions['timestamp'] = X_train_for_predictions['timestamp'].astype(int) / 10**9\n",
    "\n",
    "# Subset the training set used for predictions to include only relevant columns\n",
    "X_train_subset = X_train_for_predictions[X.columns]\n",
    "\n",
    "# Make predictions with individual models on the training data\n",
    "for clf in classifiers:\n",
    "    # Fit the classifier\n",
    "    clf.fit(X_resampled, y_resampled)\n",
    "\n",
    "    # Make predictions on the training set\n",
    "    y_pred_train = clf.predict(X_train_subset)\n",
    "\n",
    "    # Now you can use y_pred_train for further analysis\n",
    "    # For example, if you want to print the predictions:\n",
    "    print(f'Training Predictions using {clf.__class__.__name__}:\\n{y_pred_train}')\n",
    "\n",
    "# Ensemble classifier using VotingClassifier\n",
    "ensemble_classifier = VotingClassifier(estimators=[\n",
    "    ('rf', best_rf_classifier),\n",
    "    ('xgb', xgb_classifier),\n",
    "    ('gb', gb_classifier)\n",
    "], voting='soft')\n",
    "\n",
    "# Fit the ensemble classifier on the training data\n",
    "ensemble_classifier.fit(X_resampled, y_resampled)\n",
    "\n",
    "# Make predictions on the training set using the ensemble classifier\n",
    "y_pred_ensemble_train = ensemble_classifier.predict(X_train_subset)\n",
    "\n",
    "# Now you can use y_pred_ensemble_train for further analysis\n",
    "# For example, if you want to print the predictions:\n",
    "print(f'Training Predictions using Ensemble:\\n{y_pred_ensemble_train}')\n",
    "\n",
    "# Prepare the submission file\n",
    "submission_df = pd.DataFrame({'series_id': df_train_for_predictions['series_id'], 'predicted_event': y_pred_ensemble_train})\n",
    "\n",
    "# Save the submission file\n",
    "submission_df.to_csv('/kaggle/working/submission_train.csv', index=False)\n"
   ]
  },
  {
   "cell_type": "code",
   "execution_count": null,
   "id": "da5fdc29",
   "metadata": {
    "_cell_guid": "59ea053a-c009-49e6-9375-69e00e3809e6",
    "_uuid": "ad88b1c8-4bb8-4bb6-913f-fbb650255a9e",
    "collapsed": false,
    "jupyter": {
     "outputs_hidden": false
    },
    "papermill": {
     "duration": 0.002551,
     "end_time": "2023-11-21T07:31:51.047043",
     "exception": false,
     "start_time": "2023-11-21T07:31:51.044492",
     "status": "completed"
    },
    "tags": []
   },
   "outputs": [],
   "source": []
  }
 ],
 "metadata": {
  "kaggle": {
   "accelerator": "none",
   "dataSources": [
    {
     "databundleVersionId": 6589269,
     "sourceId": 53666,
     "sourceType": "competition"
    },
    {
     "datasetId": 4028312,
     "sourceId": 7007148,
     "sourceType": "datasetVersion"
    }
   ],
   "dockerImageVersionId": 30587,
   "isGpuEnabled": false,
   "isInternetEnabled": true,
   "language": "python",
   "sourceType": "notebook"
  },
  "kernelspec": {
   "display_name": "Python 3",
   "language": "python",
   "name": "python3"
  },
  "language_info": {
   "codemirror_mode": {
    "name": "ipython",
    "version": 3
   },
   "file_extension": ".py",
   "mimetype": "text/x-python",
   "name": "python",
   "nbconvert_exporter": "python",
   "pygments_lexer": "ipython3",
   "version": "3.10.12"
  },
  "papermill": {
   "default_parameters": {},
   "duration": 49.979418,
   "end_time": "2023-11-21T07:31:53.671952",
   "environment_variables": {},
   "exception": null,
   "input_path": "__notebook__.ipynb",
   "output_path": "__notebook__.ipynb",
   "parameters": {},
   "start_time": "2023-11-21T07:31:03.692534",
   "version": "2.4.0"
  }
 },
 "nbformat": 4,
 "nbformat_minor": 5
}
